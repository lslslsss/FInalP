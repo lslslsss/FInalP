{
 "cells": [
  {
   "cell_type": "code",
   "execution_count": 2,
   "metadata": {},
   "outputs": [],
   "source": [
    "import pandas as pd\n",
    "\n",
    "df = pd.read_csv(\"/Users/lslsls/Desktop/IV/FInalP/combined_mbti_df.csv\")\n",
    "df_reduced = df[[\"mbti\",\"danceability_mean\",\"energy_mean\",\"loudness_mean\",\"mode_mean\",\n",
    "                 \"speechiness_mean\",\"acousticness_mean\",\"liveness_mean\",\"valence_mean\",\n",
    "                 \"tempo_mean\",\"instrumentalness_mean\"]]"
   ]
  },
  {
   "cell_type": "code",
   "execution_count": 6,
   "metadata": {},
   "outputs": [
    {
     "name": "stderr",
     "output_type": "stream",
     "text": [
      "<ipython-input-6-5670b4624e1a>:6: SettingWithCopyWarning: \n",
      "A value is trying to be set on a copy of a slice from a DataFrame.\n",
      "Try using .loc[row_indexer,col_indexer] = value instead\n",
      "\n",
      "See the caveats in the documentation: https://pandas.pydata.org/pandas-docs/stable/user_guide/indexing.html#returning-a-view-versus-a-copy\n",
      "  df_reduced[v] = (df_reduced[v] - df_reduced[v].mean())/df_reduced[v].std()\n"
     ]
    }
   ],
   "source": [
    "variables = [\"danceability_mean\",\"energy_mean\",\"loudness_mean\",\"mode_mean\",\n",
    "                 \"speechiness_mean\",\"acousticness_mean\",\"liveness_mean\",\"valence_mean\",\n",
    "                 \"tempo_mean\",\"instrumentalness_mean\"]\n",
    "\n",
    "for v in variables:\n",
    "    df_reduced[v] = (df_reduced[v] - df_reduced[v].mean())/df_reduced[v].std()"
   ]
  },
  {
   "cell_type": "code",
   "execution_count": 10,
   "metadata": {},
   "outputs": [
    {
     "data": {
      "text/plain": [
       "mbti                         ENFJ\n",
       "danceability_mean        -7.78578\n",
       "energy_mean              -5.51155\n",
       "loudness_mean             -9.7405\n",
       "mode_mean                 -4.1709\n",
       "speechiness_mean         -2.22135\n",
       "acousticness_mean        -1.66714\n",
       "liveness_mean            -5.79616\n",
       "valence_mean             -4.67217\n",
       "tempo_mean               -15.6065\n",
       "instrumentalness_mean   -0.663096\n",
       "dtype: object"
      ]
     },
     "execution_count": 10,
     "metadata": {},
     "output_type": "execute_result"
    }
   ],
   "source": [
    "df_reduced.min()"
   ]
  },
  {
   "cell_type": "code",
   "execution_count": 11,
   "metadata": {},
   "outputs": [
    {
     "data": {
      "text/plain": [
       "mbti                        ISTP\n",
       "danceability_mean        3.21305\n",
       "energy_mean              2.87919\n",
       "loudness_mean            3.46126\n",
       "mode_mean                2.72584\n",
       "speechiness_mean         23.1539\n",
       "acousticness_mean        4.86734\n",
       "liveness_mean            15.6068\n",
       "valence_mean             3.52388\n",
       "tempo_mean               3.72742\n",
       "instrumentalness_mean     7.2311\n",
       "dtype: object"
      ]
     },
     "execution_count": 11,
     "metadata": {},
     "output_type": "execute_result"
    }
   ],
   "source": [
    "df_reduced.max()"
   ]
  },
  {
   "cell_type": "code",
   "execution_count": 12,
   "metadata": {},
   "outputs": [
    {
     "data": {
      "text/plain": [
       "danceability_mean        0.014947\n",
       "energy_mean              0.141566\n",
       "loudness_mean            0.150703\n",
       "mode_mean               -0.032857\n",
       "speechiness_mean        -0.194574\n",
       "acousticness_mean       -0.240615\n",
       "liveness_mean           -0.079554\n",
       "valence_mean             0.022090\n",
       "tempo_mean               0.034382\n",
       "instrumentalness_mean   -0.311339\n",
       "dtype: float64"
      ]
     },
     "execution_count": 12,
     "metadata": {},
     "output_type": "execute_result"
    }
   ],
   "source": [
    "df_reduced.median()"
   ]
  },
  {
   "cell_type": "code",
   "execution_count": 13,
   "metadata": {},
   "outputs": [],
   "source": [
    "df_mean = df_reduced.groupby(['mbti']).mean()"
   ]
  },
  {
   "cell_type": "code",
   "execution_count": 18,
   "metadata": {},
   "outputs": [
    {
     "data": {
      "text/plain": [
       "danceability_mean        0.570676\n",
       "energy_mean              0.607702\n",
       "loudness_mean            0.442580\n",
       "mode_mean                0.874313\n",
       "speechiness_mean         0.719785\n",
       "acousticness_mean        0.935021\n",
       "liveness_mean            0.472288\n",
       "valence_mean             0.783951\n",
       "tempo_mean               0.347310\n",
       "instrumentalness_mean    0.525963\n",
       "dtype: float64"
      ]
     },
     "execution_count": 18,
     "metadata": {},
     "output_type": "execute_result"
    }
   ],
   "source": [
    "df_mean.max()"
   ]
  },
  {
   "cell_type": "code",
   "execution_count": 22,
   "metadata": {},
   "outputs": [],
   "source": [
    "df_long = pd.melt(df_mean, value_vars=variables, value_name='Value', ignore_index=False)\n"
   ]
  },
  {
   "cell_type": "code",
   "execution_count": 23,
   "metadata": {},
   "outputs": [
    {
     "data": {
      "text/html": [
       "<div>\n",
       "<style scoped>\n",
       "    .dataframe tbody tr th:only-of-type {\n",
       "        vertical-align: middle;\n",
       "    }\n",
       "\n",
       "    .dataframe tbody tr th {\n",
       "        vertical-align: top;\n",
       "    }\n",
       "\n",
       "    .dataframe thead th {\n",
       "        text-align: right;\n",
       "    }\n",
       "</style>\n",
       "<table border=\"1\" class=\"dataframe\">\n",
       "  <thead>\n",
       "    <tr style=\"text-align: right;\">\n",
       "      <th></th>\n",
       "      <th>variable</th>\n",
       "      <th>Value</th>\n",
       "    </tr>\n",
       "    <tr>\n",
       "      <th>mbti</th>\n",
       "      <th></th>\n",
       "      <th></th>\n",
       "    </tr>\n",
       "  </thead>\n",
       "  <tbody>\n",
       "    <tr>\n",
       "      <th>ENFJ</th>\n",
       "      <td>danceability_mean</td>\n",
       "      <td>-0.089963</td>\n",
       "    </tr>\n",
       "    <tr>\n",
       "      <th>ENFP</th>\n",
       "      <td>danceability_mean</td>\n",
       "      <td>0.293073</td>\n",
       "    </tr>\n",
       "    <tr>\n",
       "      <th>ENTJ</th>\n",
       "      <td>danceability_mean</td>\n",
       "      <td>0.487066</td>\n",
       "    </tr>\n",
       "    <tr>\n",
       "      <th>ENTP</th>\n",
       "      <td>danceability_mean</td>\n",
       "      <td>0.485386</td>\n",
       "    </tr>\n",
       "    <tr>\n",
       "      <th>ESFJ</th>\n",
       "      <td>danceability_mean</td>\n",
       "      <td>0.035509</td>\n",
       "    </tr>\n",
       "    <tr>\n",
       "      <th>...</th>\n",
       "      <td>...</td>\n",
       "      <td>...</td>\n",
       "    </tr>\n",
       "    <tr>\n",
       "      <th>INTP</th>\n",
       "      <td>instrumentalness_mean</td>\n",
       "      <td>0.525963</td>\n",
       "    </tr>\n",
       "    <tr>\n",
       "      <th>ISFJ</th>\n",
       "      <td>instrumentalness_mean</td>\n",
       "      <td>0.003598</td>\n",
       "    </tr>\n",
       "    <tr>\n",
       "      <th>ISFP</th>\n",
       "      <td>instrumentalness_mean</td>\n",
       "      <td>-0.199637</td>\n",
       "    </tr>\n",
       "    <tr>\n",
       "      <th>ISTJ</th>\n",
       "      <td>instrumentalness_mean</td>\n",
       "      <td>0.253715</td>\n",
       "    </tr>\n",
       "    <tr>\n",
       "      <th>ISTP</th>\n",
       "      <td>instrumentalness_mean</td>\n",
       "      <td>0.081953</td>\n",
       "    </tr>\n",
       "  </tbody>\n",
       "</table>\n",
       "<p>160 rows × 2 columns</p>\n",
       "</div>"
      ],
      "text/plain": [
       "                   variable     Value\n",
       "mbti                                 \n",
       "ENFJ      danceability_mean -0.089963\n",
       "ENFP      danceability_mean  0.293073\n",
       "ENTJ      danceability_mean  0.487066\n",
       "ENTP      danceability_mean  0.485386\n",
       "ESFJ      danceability_mean  0.035509\n",
       "...                     ...       ...\n",
       "INTP  instrumentalness_mean  0.525963\n",
       "ISFJ  instrumentalness_mean  0.003598\n",
       "ISFP  instrumentalness_mean -0.199637\n",
       "ISTJ  instrumentalness_mean  0.253715\n",
       "ISTP  instrumentalness_mean  0.081953\n",
       "\n",
       "[160 rows x 2 columns]"
      ]
     },
     "execution_count": 23,
     "metadata": {},
     "output_type": "execute_result"
    }
   ],
   "source": [
    "df_long"
   ]
  },
  {
   "cell_type": "code",
   "execution_count": 24,
   "metadata": {},
   "outputs": [],
   "source": [
    "df_long.to_csv('matrix.csv')"
   ]
  },
  {
   "cell_type": "code",
   "execution_count": null,
   "metadata": {},
   "outputs": [],
   "source": []
  }
 ],
 "metadata": {
  "kernelspec": {
   "display_name": "Python 3",
   "language": "python",
   "name": "python3"
  },
  "language_info": {
   "codemirror_mode": {
    "name": "ipython",
    "version": 3
   },
   "file_extension": ".py",
   "mimetype": "text/x-python",
   "name": "python",
   "nbconvert_exporter": "python",
   "pygments_lexer": "ipython3",
   "version": "3.8.2"
  }
 },
 "nbformat": 4,
 "nbformat_minor": 4
}
